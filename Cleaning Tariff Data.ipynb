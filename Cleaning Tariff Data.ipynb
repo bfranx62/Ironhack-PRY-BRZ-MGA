{
 "cells": [
  {
   "cell_type": "code",
   "execution_count": 95,
   "metadata": {},
   "outputs": [
    {
     "name": "stdout",
     "output_type": "stream",
     "text": [
      "Requirement already satisfied: xlrd in c:\\users\\bfran\\anaconda3\\lib\\site-packages (2.0.1)\n"
     ]
    }
   ],
   "source": [
    "import os\n",
    "import pandas as pd\n",
    "!pip install xlrd"
   ]
  },
  {
   "cell_type": "code",
   "execution_count": 96,
   "metadata": {},
   "outputs": [
    {
     "data": {
      "text/plain": [
       "'c:\\\\Users\\\\bfran\\\\Ironhack\\\\Week 3\\\\Project\\\\Ironhack-PRY-BRZ-MGA'"
      ]
     },
     "execution_count": 96,
     "metadata": {},
     "output_type": "execute_result"
    }
   ],
   "source": [
    "# Ensure I'm in the proper working Directory\n",
    "os.getcwd()"
   ]
  },
  {
   "cell_type": "code",
   "execution_count": 115,
   "metadata": {},
   "outputs": [],
   "source": [
    "# Saves .csv files as dataframes\n",
    "pry_app_tariffs = pd.read_excel('PRY Applied Tariffs.xls',header = 2)\n",
    "brz_app_tariffs = pd.read_excel('BRZ Applied Tariffs.xls',header = 2)\n",
    "pry_bnd_tariffs = pd.read_excel('PRY Bound Tariffs.xls',header = 2)\n",
    "brz_bnd_tariffs = pd.read_excel('BRZ Bound Tariffs.xls',header = 2)"
   ]
  },
  {
   "cell_type": "code",
   "execution_count": 121,
   "metadata": {},
   "outputs": [
    {
     "data": {
      "text/plain": [
       "Index(['Unnamed: 0', 'Unnamed: 1', 'HS-code level', 'HS version', 'HS code',\n",
       "       'Number of \\nsubheadings', 'Number of TL', 'Number of AV duties',\n",
       "       'Average of AV Duties', 'Minimum AV Duty', 'Maximum AV Duty',\n",
       "       'Duty Free TL (%)', 'Number of Non-AV Duty',\n",
       "       'List of  Non-AV Duties\\n(for HS 6-digit codes only)',\n",
       "       ' Exchange Rate NC/US$', 'Value\\n000 US$',\n",
       "       'List of Distinct Unit Values\\n(for HS 6-digit codes only)',\n",
       "       'Unnamed: 17'],\n",
       "      dtype='object')"
      ]
     },
     "execution_count": 121,
     "metadata": {},
     "output_type": "execute_result"
    }
   ],
   "source": [
    "# Inspect columns names \n",
    "brz_app_tariffs.columns"
   ]
  },
  {
   "cell_type": "code",
   "execution_count": 122,
   "metadata": {},
   "outputs": [],
   "source": [
    "# Filters dataframes to only include rows with 6 digit HS codes for easy merging later\n",
    "pry_app_tariffs = pry_app_tariffs[pry_app_tariffs['HS-code level']==6]\n",
    "brz_app_tariffs = brz_app_tariffs[brz_app_tariffs['HS-code level']==6]\n",
    "pry_bnd_tariffs = pry_bnd_tariffs[pry_bnd_tariffs['HS code level']==6]\n",
    "brz_bnd_tariffs = brz_bnd_tariffs[brz_bnd_tariffs['HS code level']==6]"
   ]
  },
  {
   "cell_type": "code",
   "execution_count": 123,
   "metadata": {},
   "outputs": [],
   "source": [
    "# Renames columns to facilitate easy merging later\n",
    "pry_app_tariffs.rename(columns = {'Unnamed: 0':'reporter',\n",
    "                                  'Unnamed: 1': 'year',\n",
    "                                  'HS code':'hs_code',\n",
    "                                  'Average of AV Duties':'applied_tariff',\n",
    "                                  'Unnamed: 17':'commodity'\n",
    "                                  }, inplace = True)\n",
    "pry_bnd_tariffs.rename(columns = {'Unnamed: 0':'reporter',\n",
    "                                  'HS code':'hs_code',\n",
    "                                  'Average of AV Duties':'bound_tariff',\n",
    "                                  'Unnamed: 22':'commodity'\n",
    "                                  }, inplace = True)\n",
    "brz_app_tariffs.rename(columns = {'Unnamed: 0':'reporter',\n",
    "                                  'Unnamed: 1': 'year',\n",
    "                                  'HS code':'hs_code',\n",
    "                                  'Average of AV Duties':'applied_tariff',\n",
    "                                  'Unnamed: 17':'commodity'\n",
    "                                  }, inplace = True)\n",
    "brz_bnd_tariffs.rename(columns = {'Unnamed: 0':'reporter',\n",
    "                                  'HS code':'hs_code',\n",
    "                                  'Average of AV Duties':'bound_tariff',\n",
    "                                  'Unnamed: 22':'commodity'\n",
    "                                  }, inplace = True)"
   ]
  },
  {
   "cell_type": "code",
   "execution_count": 124,
   "metadata": {},
   "outputs": [],
   "source": [
    "# Creates a list of columns to keep\n",
    "# Bound tariff dataframes don't have year data\n",
    "app_columns_to_keep = ['reporter','year','hs_code','applied_tariff','commodity']\n",
    "bnd_columns_to_keep = ['reporter','hs_code','bound_tariff','commodity']"
   ]
  },
  {
   "cell_type": "code",
   "execution_count": 125,
   "metadata": {},
   "outputs": [],
   "source": [
    "# Applies column filters\n",
    "pry_app_tariffs = pry_app_tariffs.loc[:,app_columns_to_keep]\n",
    "brz_app_tariffs = brz_app_tariffs.loc[:,app_columns_to_keep]\n",
    "pry_bnd_tariffs = pry_bnd_tariffs.loc[:,bnd_columns_to_keep]\n",
    "brz_bnd_tariffs = brz_bnd_tariffs.loc[:,bnd_columns_to_keep]"
   ]
  },
  {
   "cell_type": "code",
   "execution_count": 127,
   "metadata": {},
   "outputs": [],
   "source": [
    "# Saves year and hs_code columns as integers instead of floats.\n",
    "pry_app_tariffs['year'] = pry_app_tariffs['year'].astype(int)\n",
    "pry_app_tariffs['hs_code'] = pry_app_tariffs['hs_code'].astype(int)\n",
    "brz_app_tariffs['year'] = brz_app_tariffs['year'].astype(int)\n",
    "brz_app_tariffs['hs_code'] = brz_app_tariffs['hs_code'].astype(int)\n",
    "pry_bnd_tariffs['hs_code'] = pry_bnd_tariffs['hs_code'].astype(int)\n",
    "brz_bnd_tariffs['hs_code'] = brz_bnd_tariffs['hs_code'].astype(int)\n"
   ]
  },
  {
   "cell_type": "code",
   "execution_count": 131,
   "metadata": {},
   "outputs": [],
   "source": [
    "# Saves cleaned dataframes as new .csv files for easy merging\n",
    "pry_app_tariffs.to_csv('pry_app_tariffs.csv', index = False)\n",
    "pry_bnd_tariffs.to_csv('pry_bnd_tariffs.csv', index = False)\n",
    "brz_app_tariffs.to_csv('brz_app_tariffs.csv', index = False)\n",
    "brz_bnd_tariffs.to_csv('brz_bnd_tariffs.csv', index = False)"
   ]
  }
 ],
 "metadata": {
  "kernelspec": {
   "display_name": "base",
   "language": "python",
   "name": "python3"
  },
  "language_info": {
   "codemirror_mode": {
    "name": "ipython",
    "version": 3
   },
   "file_extension": ".py",
   "mimetype": "text/x-python",
   "name": "python",
   "nbconvert_exporter": "python",
   "pygments_lexer": "ipython3",
   "version": "3.11.7"
  }
 },
 "nbformat": 4,
 "nbformat_minor": 2
}
