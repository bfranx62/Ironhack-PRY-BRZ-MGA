{
 "cells": [
  {
   "cell_type": "code",
   "execution_count": 81,
   "metadata": {},
   "outputs": [],
   "source": [
    "import os\n",
    "import pandas as pd"
   ]
  },
  {
   "cell_type": "code",
   "execution_count": 82,
   "metadata": {},
   "outputs": [],
   "source": [
    "# Saves as dataframes data pulled from OECD\n",
    "pry_itic = pd.read_csv(\"PRY ITIC.csv\", encoding='unicode_escape')\n",
    "brz_itic = pd.read_csv(\"BRZ ITIC.csv\", encoding='unicode_escape')\n"
   ]
  },
  {
   "cell_type": "code",
   "execution_count": 83,
   "metadata": {},
   "outputs": [
    {
     "name": "stdout",
     "output_type": "stream",
     "text": [
      "Index(['ï»¿\"REPORTER\"', 'Reporter Country', 'PARTNER', 'Partner Country',\n",
      "       'COM_H3', 'Commodity', 'MEASURE', 'Measure', 'TIME', 'Time', 'Value',\n",
      "       'Flag Codes', 'Flags'],\n",
      "      dtype='object') Index(['ï»¿\"REPORTER\"', 'Reporter Country', 'PARTNER', 'Partner Country',\n",
      "       'COM_H3', 'Commodity', 'MEASURE', 'Measure', 'TIME', 'Time', 'Value',\n",
      "       'Flag Codes', 'Flags'],\n",
      "      dtype='object')\n"
     ]
    }
   ],
   "source": [
    "# Displays column names in both datasets for comparison\n",
    "print(pry_itic.columns, brz_itic.columns)"
   ]
  },
  {
   "cell_type": "code",
   "execution_count": 84,
   "metadata": {},
   "outputs": [
    {
     "name": "stdout",
     "output_type": "stream",
     "text": [
      "MEASURE\n",
      "1    5435\n",
      "2    5435\n",
      "Name: count, dtype: int64 MEASURE\n",
      "1    2898\n",
      "2    2898\n",
      "Name: count, dtype: int64\n",
      "Measure\n",
      "Value          5435\n",
      "Method used    5435\n",
      "Name: count, dtype: int64 Measure\n",
      "Value          2898\n",
      "Method used    2898\n",
      "Name: count, dtype: int64\n"
     ]
    }
   ],
   "source": [
    "# Measure and MEASURE tell what is shown in Value column.\n",
    "# We only want the values, not the methods used. \n",
    "print(pry_itic['MEASURE'].value_counts(),brz_itic['MEASURE'].value_counts())\n",
    "print(pry_itic['Measure'].value_counts(),brz_itic['Measure'].value_counts())"
   ]
  },
  {
   "cell_type": "code",
   "execution_count": 85,
   "metadata": {},
   "outputs": [],
   "source": [
    "# Subsets datasets to only include values in value column, not method used. \n",
    "pry_itic = pry_itic[pry_itic['Measure']=='Value']\n",
    "brz_itic = brz_itic[brz_itic['Measure']=='Value']"
   ]
  },
  {
   "cell_type": "code",
   "execution_count": 86,
   "metadata": {},
   "outputs": [],
   "source": [
    "# defines which columns we want to keep\n",
    "# Reporter country for clarity of data\n",
    "# COM_H3 for merging purposes\n",
    "# Value - Int'l Transport and Insurance Costs of Merchandise Trade - the data we need\n",
    "columns_to_keep = ['Reporter Country','COM_H3','Time','Value']\n",
    "\n",
    "# Saves the dataframes with only those columns that have useful data\n",
    "pry_itic = pry_itic.loc[:,columns_to_keep]\n",
    "brz_itic= brz_itic.loc[:,columns_to_keep]"
   ]
  },
  {
   "cell_type": "code",
   "execution_count": 87,
   "metadata": {},
   "outputs": [],
   "source": [
    "# Renames columns for clarity of information\n",
    "pry_itic.rename(columns = {'Reporter Country':'reporter',\n",
    "                     'COM_H3':'hs_4_code',\n",
    "                     'Value':'itic_rate'},\n",
    "                     inplace=True)\n",
    "\n",
    "brz_itic.rename(columns = {'Reporter Country':'reporter',\n",
    "                     'COM_H3':'hs_4_code',\n",
    "                     'Value':'itic_rate'},\n",
    "                     inplace=True)"
   ]
  },
  {
   "cell_type": "code",
   "execution_count": 88,
   "metadata": {},
   "outputs": [],
   "source": [
    "# Converts itic_rate to be a proper multiplier for later use.\n",
    "pry_itic['itic_rate'] = pry_itic['itic_rate']+1\n",
    "brz_itic['itic_rate'] = brz_itic['itic_rate']+1"
   ]
  },
  {
   "cell_type": "code",
   "execution_count": 90,
   "metadata": {},
   "outputs": [],
   "source": [
    "# Groups each df by the hs_4_code, keeps the first country name, takes the average of itic rates\n",
    "pry_ave_itic = pry_itic.groupby('hs_4_code').agg({'reporter':'first','itic_rate':'mean'}).reset_index()\n",
    "brz_ave_itic = brz_itic.groupby('hs_4_code').agg({'reporter':'first','itic_rate':'mean'}).reset_index()"
   ]
  },
  {
   "cell_type": "code",
   "execution_count": 91,
   "metadata": {},
   "outputs": [],
   "source": [
    "# Renames columns in both dataframes for clarity\n",
    "pry_ave_itic = pry_ave_itic.rename(columns={'itic_rate':'ave_itic_rate'})\n",
    "brz_ave_itic = brz_ave_itic.rename(columns={'itic_rate':'ave_itic_rate'})"
   ]
  },
  {
   "cell_type": "code",
   "execution_count": 93,
   "metadata": {},
   "outputs": [],
   "source": [
    "# Saves cleaned dataframe as a new .csv file for future use. \n",
    "pry_ave_itic.to_csv('pry_ave_itic.csv',index=False)\n",
    "brz_ave_itic.to_csv('brz_ave_itic.csv',index=False)"
   ]
  }
 ],
 "metadata": {
  "kernelspec": {
   "display_name": "base",
   "language": "python",
   "name": "python3"
  },
  "language_info": {
   "codemirror_mode": {
    "name": "ipython",
    "version": 3
   },
   "file_extension": ".py",
   "mimetype": "text/x-python",
   "name": "python",
   "nbconvert_exporter": "python",
   "pygments_lexer": "ipython3",
   "version": "3.11.7"
  }
 },
 "nbformat": 4,
 "nbformat_minor": 2
}
